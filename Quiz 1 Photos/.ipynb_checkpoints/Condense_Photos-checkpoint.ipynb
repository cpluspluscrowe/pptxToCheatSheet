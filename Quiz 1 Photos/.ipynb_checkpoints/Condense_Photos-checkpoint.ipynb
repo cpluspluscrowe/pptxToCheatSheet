{
 "cells": [
  {
   "cell_type": "code",
   "execution_count": 26,
   "metadata": {},
   "outputs": [
    {
     "name": "stdout",
     "output_type": "stream",
     "text": [
      "/Users/ccrowe/Documents/Advanced S:W/pptxToCheatSheet/Quiz 1 Photos/16/A model of a data collector component .png\n",
      "/Users/ccrowe/Documents/Advanced S:W/pptxToCheatSheet/Quiz 1 Photos/16/An adaptor linking a data collector and a sensor .png\n",
      "/Users/ccrowe/Documents/Advanced S:W/pptxToCheatSheet/Quiz 1 Photos/16/Basic elements of a component model .png\n",
      "/Users/ccrowe/Documents/Advanced S:W/pptxToCheatSheet/Quiz 1 Photos/16/CBSE processes .png\n",
      "/Users/ccrowe/Documents/Advanced S:W/pptxToCheatSheet/Quiz 1 Photos/16/CBSE with reuse .png\n",
      "/Users/ccrowe/Documents/Advanced S:W/pptxToCheatSheet/Quiz 1 Photos/16/Component interfaces - Note UML notation. Ball and sockets can fit together. .png\n",
      "/Users/ccrowe/Documents/Advanced S:W/pptxToCheatSheet/Quiz 1 Photos/16/Components with incompatible interfaces .png\n",
      "/Users/ccrowe/Documents/Advanced S:W/pptxToCheatSheet/Quiz 1 Photos/16/components_with_incompatible_interfaces.png\n",
      "/Users/ccrowe/Documents/Advanced S:W/pptxToCheatSheet/Quiz 1 Photos/16/Data collection and report generation components .png\n",
      "/Users/ccrowe/Documents/Advanced S:W/pptxToCheatSheet/Quiz 1 Photos/16/Middleware services defined in a component model .png\n",
      "/Users/ccrowe/Documents/Advanced S:W/pptxToCheatSheet/Quiz 1 Photos/16/Photo library composition .png\n",
      "/Users/ccrowe/Documents/Advanced S:W/pptxToCheatSheet/Quiz 1 Photos/16/The component identification process .png\n",
      "/Users/ccrowe/Documents/Advanced S:W/pptxToCheatSheet/Quiz 1 Photos/16/Types of component composition .png\n",
      "/Users/ccrowe/Documents/Advanced S:W/pptxToCheatSheet/Quiz 1 Photos/16/types_of_component_composition.png\n",
      "/Users/ccrowe/Documents/Advanced S:W/pptxToCheatSheet/Quiz 1 Photos/17/A decentralized p2p architecture .png\n",
      "/Users/ccrowe/Documents/Advanced S:W/pptxToCheatSheet/Quiz 1 Photos/17/A distributed component architecture .png\n",
      "/Users/ccrowe/Documents/Advanced S:W/pptxToCheatSheet/Quiz 1 Photos/17/A distributed component architecture for a data mining system .png\n",
      "/Users/ccrowe/Documents/Advanced S:W/pptxToCheatSheet/Quiz 1 Photos/17/A fat-client architecture for an ATM system .png\n",
      "/Users/ccrowe/Documents/Advanced S:W/pptxToCheatSheet/Quiz 1 Photos/17/A multitenant database .png\n",
      "/Users/ccrowe/Documents/Advanced S:W/pptxToCheatSheet/Quiz 1 Photos/17/A semicentralized p2p architecture .png\n",
      "/Users/ccrowe/Documents/Advanced S:W/pptxToCheatSheet/Quiz 1 Photos/17/A traffic management system with a master-slave architecture .png\n",
      "/Users/ccrowe/Documents/Advanced S:W/pptxToCheatSheet/Quiz 1 Photos/17/Client–server interaction .png\n",
      "/Users/ccrowe/Documents/Advanced S:W/pptxToCheatSheet/Quiz 1 Photos/17/Configuration of a software system offered as a service .png\n",
      "/Users/ccrowe/Documents/Advanced S:W/pptxToCheatSheet/Quiz 1 Photos/17/Layered architectural model for client–server applications .png\n",
      "/Users/ccrowe/Documents/Advanced S:W/pptxToCheatSheet/Quiz 1 Photos/17/Mapping of clients and servers to networked computers .png\n",
      "/Users/ccrowe/Documents/Advanced S:W/pptxToCheatSheet/Quiz 1 Photos/17/Message-based interaction between a waiter and the kitchen .png\n",
      "/Users/ccrowe/Documents/Advanced S:W/pptxToCheatSheet/Quiz 1 Photos/17/Middleware in a distributed system .png\n",
      "/Users/ccrowe/Documents/Advanced S:W/pptxToCheatSheet/Quiz 1 Photos/17/Procedural interaction between a diner and a waiter .png\n",
      "/Users/ccrowe/Documents/Advanced S:W/pptxToCheatSheet/Quiz 1 Photos/17/Thin- and fat-client architectural models .png\n",
      "/Users/ccrowe/Documents/Advanced S:W/pptxToCheatSheet/Quiz 1 Photos/17/Three-tier architecture for an Internet banking system .png\n"
     ]
    }
   ],
   "source": [
    "import os\n",
    "paths = []\n",
    "path = r\"/Users/ccrowe/Documents/Advanced S:W/pptxToCheatSheet/Quiz 1 Photos\"\n",
    "for root,dirs,files in os.walk(path):\n",
    "    for file in files:\n",
    "        if \".png\" in file:\n",
    "            full_path = os.path.join(root,file)\n",
    "            print(full_path)\n",
    "            paths.append(full_path)\n",
    "\n",
    "import ntpath\n",
    "\n",
    "\n",
    "html = '''\n",
    "<head>\n",
    "<style>\n",
    "img {\n",
    "    margin-left: 1px;\n",
    "    margin-right: 1px;\n",
    "    width:100%;\n",
    "}\n",
    "div {\n",
    " column-count: 5;\n",
    "}\n",
    "</style>\n",
    "</head>\n",
    "\n",
    "'''\n",
    "html += \"<div>\"\n",
    "for path in paths:\n",
    "    html += '''<p class = \"photo\">'''\n",
    "    base_file = ntpath.basename(path).replace(\".png\",\"\")\n",
    "    html += r'''<p>{0}</p>'''.format(base_file)\n",
    "    html += r'''<img src = \"{0}\">'''.format(path)\n",
    "    html += \"</p>\"\n",
    "html += \"</div>\"\n",
    "\n",
    "            \n",
    "with open(\"photos.html\",\"w\") as f:\n",
    "    f.write(html)"
   ]
  },
  {
   "cell_type": "code",
   "execution_count": null,
   "metadata": {
    "collapsed": true
   },
   "outputs": [],
   "source": []
  }
 ],
 "metadata": {
  "kernelspec": {
   "display_name": "Python 3",
   "language": "python",
   "name": "python3"
  }
 },
 "nbformat": 4,
 "nbformat_minor": 2
}
