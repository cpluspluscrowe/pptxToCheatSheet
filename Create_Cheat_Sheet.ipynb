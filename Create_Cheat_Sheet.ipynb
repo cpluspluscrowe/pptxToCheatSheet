{
 "cells": [
  {
   "cell_type": "code",
   "execution_count": 122,
   "metadata": {},
   "outputs": [],
   "source": [
    "%config IPCompleter.greedy=True\n",
    "from pptx import Presentation\n",
    "import operator\n",
    "from pprint import pprint\n",
    "\n",
    "prs = Presentation(\"./ch16.pptx\")\n",
    "\n",
    "paragraphs = {}\n",
    "\n",
    "\n",
    "class Paragraph():\n",
    "    def __init__(self, level,paragraph_count, text, isBold, block_count):\n",
    "        self.block_count = block_count\n",
    "        self.paragraph_count = paragraph_count\n",
    "        self.level = level\n",
    "        self.text = text\n",
    "        self.isBold = isBold\n",
    "    def __str__(self):\n",
    "        html = \"<div>\"\n",
    "        content = \"&emsp;\"*(self.block_count) + self.text\n",
    "        if self.block_count == 0:\n",
    "            html += \"<b>\" + content + \"</b>\"\n",
    "        else:\n",
    "            html +=  \"</tab>\" + content \n",
    "        html += \"</div>\"\n",
    "        return html\n",
    "\n",
    "slides = []\n",
    "d = {}\n",
    "slide_count = 0\n",
    "for ppSlide in prs.slides:\n",
    "    d[slide_count] = {}\n",
    "    shape_count = 0\n",
    "    for shape in ppSlide.shapes:\n",
    "        if not shape.has_text_frame:\n",
    "            continue\n",
    "        else:\n",
    "            d[slide_count][shape_count] = []\n",
    "            paragraph_count = 0\n",
    "            for block in shape.text_frame.paragraphs:\n",
    "                paragraph = Paragraph(block.level, \n",
    "                                      paragraph_count, block.text, block.font.bold, shape_count)\n",
    "                if block.text == \"Chapter 16 Component-based software engineering\" or block.text == \"19/11/2014\" or block.text.isnumeric() or block.text.isspace() or block.text == \"\":\n",
    "                    break\n",
    "                d[slide_count][shape_count].append(paragraph)\n",
    "                paragraph_count += 1\n",
    "            shape_count += 1\n",
    "    slide_count += 1\n",
    "\n"
   ]
  },
  {
   "cell_type": "code",
   "execution_count": 123,
   "metadata": {},
   "outputs": [],
   "source": [
    "paragraphs = {}\n",
    "for a in sorted(d):\n",
    "    for b in sorted(d[a]):\n",
    "        for c in d[a][b]:\n",
    "            if c.block_count == 0:\n",
    "                paragraphs[c.text] = a\n"
   ]
  },
  {
   "cell_type": "code",
   "execution_count": 124,
   "metadata": {},
   "outputs": [],
   "source": [
    "datas = []\n",
    "#build the cheat sheet text\n",
    "html = '''\n",
    "<head>\n",
    "<link rel=\"stylesheet\" href=\"https://cdnjs.cloudflare.com/ajax/libs/bulma/0.6.2/css/bulma.min.css\">\n",
    "<style>\n",
    "div {\n",
    "    font-size:40%;\n",
    "}\n",
    "</style>\n",
    "</head>\n",
    "'''\n",
    "for page in sorted(paragraphs):\n",
    "    a = paragraphs[page]\n",
    "    html += \"<div>\"\n",
    "    for b in sorted(d[a]):\n",
    "        for c in d[a][b]:\n",
    "            html += str(c)\n",
    "    html += \"</div>\"\n",
    "\n",
    "with open(\"cheat_sheet.html\",\"w\") as f:\n",
    "    f.write(html)\n",
    "\n"
   ]
  },
  {
   "cell_type": "code",
   "execution_count": null,
   "metadata": {
    "collapsed": true
   },
   "outputs": [],
   "source": []
  }
 ],
 "metadata": {
  "kernelspec": {
   "display_name": "Python 3",
   "language": "python",
   "name": "python3"
  },
  "language_info": {
   "codemirror_mode": {
    "name": "ipython",
    "version": 3
   },
   "file_extension": ".py",
   "mimetype": "text/x-python",
   "name": "python",
   "nbconvert_exporter": "python",
   "pygments_lexer": "ipython3",
   "version": "3.6.2"
  }
 },
 "nbformat": 4,
 "nbformat_minor": 2
}
