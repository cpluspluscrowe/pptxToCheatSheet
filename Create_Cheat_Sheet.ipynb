{
 "cells": [
  {
   "cell_type": "code",
   "execution_count": 236,
   "metadata": {},
   "outputs": [],
   "source": [
    "%config IPCompleter.greedy=True\n",
    "from pptx import Presentation\n",
    "import operator\n",
    "from pprint import pprint\n",
    "\n",
    "prs = Presentation(\"./ch16.pptx\")\n",
    "\n",
    "paragraphs = {}\n",
    "\n",
    "\n",
    "class Paragraph():\n",
    "    def __init__(self, level,paragraph_count, text, isBold, block_count):\n",
    "        self.block_count = block_count\n",
    "        self.paragraph_count = paragraph_count\n",
    "        self.level = level\n",
    "        self.text = text\n",
    "        self.isBold = isBold\n",
    "        self.context = None\n",
    "    def __str__(self):\n",
    "        html = \"<div>\"\n",
    "        content = \"&emsp;\"*(self.block_count) + \"&#8226;\" + self.text\n",
    "        if self.block_count == 0:\n",
    "            html += \"<b>\" + content + \"</b>\"\n",
    "        else:\n",
    "            html +=  \"</tab>\" + content \n",
    "        html += str(self.context) + \"</div>\"\n",
    "        return html\n",
    "\n",
    "slides = []\n",
    "d = {}\n",
    "slide_count = 0\n",
    "for ppSlide in prs.slides:\n",
    "    d[slide_count] = {}\n",
    "    shape_count = 0\n",
    "    for shape in ppSlide.shapes:\n",
    "        if not shape.has_text_frame:\n",
    "            continue\n",
    "        else:\n",
    "            d[slide_count][shape_count] = []\n",
    "            paragraph_count = 0\n",
    "            for block in shape.text_frame.paragraphs:\n",
    "                paragraph = Paragraph(block.level, \n",
    "                                      paragraph_count, block.text, block.font.bold, shape_count)\n",
    "                if block.text == \"Chapter 16 Component-based software engineering\" or block.text == \"19/11/2014\" or block.text.isnumeric() or block.text.isspace() or block.text == \"\":\n",
    "                    break\n",
    "                d[slide_count][shape_count].append(paragraph)\n",
    "                paragraph_count += 1\n",
    "            shape_count += 1\n",
    "    slide_count += 1\n",
    "\n"
   ]
  },
  {
   "cell_type": "code",
   "execution_count": 237,
   "metadata": {},
   "outputs": [],
   "source": [
    "#sort title blocks\n",
    "paragraphs = {}\n",
    "for a in d:\n",
    "    for b in d[a]:\n",
    "        for c in d[a][b]:\n",
    "            if c.block_count == 0:\n",
    "                paragraphs[c.text] = c\n",
    "\n",
    "# associated a number with each title block\n",
    "context_cnt = 0\n",
    "for title_block in sorted(paragraphs):\n",
    "    paragraphs[title_block].context = context_cnt\n",
    "    context_cnt += 1\n",
    "\n",
    "# assign a number to each paragraph, denoting its title block #\n",
    "for a in d:\n",
    "    for b in sorted(d[a]):\n",
    "        for c in d[a][b]:\n",
    "            if c.block_count == 0:\n",
    "                context_count = c.context\n",
    "            if c.block_count > 0:\n",
    "                c.context = context_count\n"
   ]
  },
  {
   "cell_type": "code",
   "execution_count": 238,
   "metadata": {},
   "outputs": [],
   "source": [
    "#cheat sheet top\n",
    "html = '''\n",
    "<head>\n",
    "<link rel=\"stylesheet\" href=\"https://cdnjs.cloudflare.com/ajax/libs/bulma/0.6.2/css/bulma.min.css\">\n",
    "<style>\n",
    "div {\n",
    "    font-size:80%;\n",
    "}\n",
    ".group {\n",
    "    margin:3px;\n",
    "    max-width:30%;\n",
    "    float:left;\n",
    "    border:1px solid black;\n",
    "}\n",
    "</style>\n",
    "</head>\n",
    "'''\n",
    "\n"
   ]
  },
  {
   "cell_type": "code",
   "execution_count": 239,
   "metadata": {},
   "outputs": [],
   "source": [
    "general_data = {}\n",
    "# sort general data\n",
    "general_count = 0\n",
    "for a in d:\n",
    "    for b in sorted(d[a]):\n",
    "        for c in d[a][b]:\n",
    "            if c.block_count == 0:\n",
    "                points = []\n",
    "            if c.block_count > 0:\n",
    "                points.append(c)\n",
    "        general_data[general_count] = points\n",
    "        general_count += 1\n"
   ]
  },
  {
   "cell_type": "code",
   "execution_count": 240,
   "metadata": {},
   "outputs": [],
   "source": [
    "\n",
    "for paragraph in sorted(general_data):\n",
    "    html += '''<div class=\"group\">'''\n",
    "    for point in general_data[paragraph]:\n",
    "        html += str(point)\n",
    "    html += '''</div>'''\n",
    "\n",
    "with open(\"cheat_sheet.html\",\"w\") as f:\n",
    "    f.write(html)\n",
    "\n"
   ]
  },
  {
   "cell_type": "code",
   "execution_count": 278,
   "metadata": {},
   "outputs": [],
   "source": [
    "import math\n",
    "from textblob import TextBlob as tb\n",
    "\n",
    "def tf(word, blob):\n",
    "    return blob.words.count(word) / len(blob.words)\n",
    "\n",
    "def n_containing(word, bloblist):\n",
    "    return sum(1 for blob in bloblist if word in blob.words)\n",
    "\n",
    "def idf(word, bloblist):\n",
    "    return math.log(len(bloblist) / (1 + n_containing(word, bloblist)))\n",
    "\n",
    "def tfidf(word, blob, bloblist):\n",
    "    return tf(word, blob) * idf(word, bloblist)\n",
    "\n",
    "\n",
    "from nltk.tokenize import sent_tokenize, word_tokenize\n",
    "\n",
    "data = tb(example)\n",
    "\n",
    "with open(\"9thEditionText.txt\",\"r\") as f:\n",
    "    book = f.read()\n",
    "\n",
    "def GetEntities(sentences):\n",
    "    words = \" \".join(word_tokenize(sentences))\n",
    "    entities = []\n",
    "    bloblist = []\n",
    "    for x in words.lower().split():\n",
    "        bloblist.append(tb(x))\n",
    "    bloblist.append(tb(book))\n",
    "\n",
    "    for blob in bloblist[:-1]:\n",
    "        scores = {word: tfidf(word, blob, bloblist) for word in blob.words}\n",
    "        sorted_words = sorted(scores.items(), key=lambda x: x[1], reverse=True)\n",
    "        for word, score in sorted_words[:3]:\n",
    "            entities.append(word)\n",
    "    return sort(entities)\n",
    "\n",
    "#GetEntities([example])"
   ]
  },
  {
   "cell_type": "code",
   "execution_count": 277,
   "metadata": {},
   "outputs": [
    {
     "name": "stdout",
     "output_type": "stream",
     "text": [
      "\n",
      "Components and component models \n",
      "CBSE processes\n",
      "Component composition\n",
      "Components and component models CBSE processes Component composition\n",
      "['components', 'and', 'component', 'models', 'cbse', 'processes', 'component', 'composition']\n"
     ]
    }
   ],
   "source": [
    "\n",
    "for paragraph in sorted(general_data):\n",
    "    slide_text = \"\"\n",
    "    for point in general_data[paragraph]:\n",
    "        slide_text += \"\\n\" + point.text\n",
    "    print(slide_text)\n",
    "    print(GetEntities(slide_text))\n",
    "    break\n",
    "\n",
    "\n"
   ]
  },
  {
   "cell_type": "code",
   "execution_count": null,
   "metadata": {},
   "outputs": [],
   "source": [
    "entity_names"
   ]
  },
  {
   "cell_type": "code",
   "execution_count": null,
   "metadata": {
    "collapsed": true
   },
   "outputs": [],
   "source": []
  }
 ],
 "metadata": {
  "kernelspec": {
   "display_name": "Python 3",
   "language": "python",
   "name": "python3"
  },
  "language_info": {
   "codemirror_mode": {
    "name": "ipython",
    "version": 3
   },
   "file_extension": ".py",
   "mimetype": "text/x-python",
   "name": "python",
   "nbconvert_exporter": "python",
   "pygments_lexer": "ipython3",
   "version": "3.6.2"
  }
 },
 "nbformat": 4,
 "nbformat_minor": 2
}
